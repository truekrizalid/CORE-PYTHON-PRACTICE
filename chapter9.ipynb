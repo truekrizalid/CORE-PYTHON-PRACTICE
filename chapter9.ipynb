{
 "metadata": {
  "language_info": {
   "codemirror_mode": {
    "name": "ipython",
    "version": 3
   },
   "file_extension": ".py",
   "mimetype": "text/x-python",
   "name": "python",
   "nbconvert_exporter": "python",
   "pygments_lexer": "ipython3",
   "version": "3.6.0-final"
  },
  "orig_nbformat": 2,
  "kernelspec": {
   "name": "python3",
   "display_name": "Python 3"
  }
 },
 "nbformat": 4,
 "nbformat_minor": 2,
 "cells": [
  {
   "cell_type": "code",
   "execution_count": 2,
   "metadata": {
    "tags": []
   },
   "outputs": [
    {
     "output_type": "stream",
     "name": "stdout",
     "text": "Nick   rolled over!\nNick  is now sitting.\n3\n"
    }
   ],
   "source": [
    "import chapter_9 as dd\n",
    "x = dd.Dog(\"nick\",3)\n",
    "x.roll_over()\n",
    "x.sit()\n",
    "print(x.age)"
   ]
  },
  {
   "cell_type": "code",
   "execution_count": 17,
   "metadata": {
    "tags": []
   },
   "outputs": [
    {
     "output_type": "stream",
     "name": "stdout",
     "text": "Ericrolled over!\n"
    }
   ],
   "source": [
    "from chapter_9 import *\n",
    "y = Dog(\"eric\",8)\n",
    "y.roll_over()"
   ]
  },
  {
   "cell_type": "code",
   "execution_count": 5,
   "metadata": {},
   "outputs": [
    {
     "output_type": "execute_result",
     "data": {
      "text/plain": "'jessy'"
     },
     "metadata": {},
     "execution_count": 5
    }
   ],
   "source": [
    "import chapter_9\n",
    "x =chapter_9.Dog(\"jessy\",12)\n",
    "x.name"
   ]
  },
  {
   "cell_type": "markdown",
   "metadata": {},
   "source": [
    "## 以上为导入自定义模块的三种方法"
   ]
  },
  {
   "cell_type": "code",
   "execution_count": 1,
   "metadata": {
    "tags": []
   },
   "outputs": [
    {
     "output_type": "stream",
     "name": "stdout",
     "text": "customer is ordering sandwich with pepper\n"
    }
   ],
   "source": [
    "from chapter_9 import *\n",
    "x = Sandwich(\"pepper\")\n",
    "x.ing_description()"
   ]
  },
  {
   "cell_type": "code",
   "execution_count": 2,
   "metadata": {},
   "outputs": [],
   "source": [
    "class Car():\n",
    "    def __init__(self,make,model,year):\n",
    "        self.make = make\n",
    "        self.model = model \n",
    "        self.year = year\n",
    "        self.odometer_reading = 0\n",
    "\n",
    "    def get_descriptive_name(self):\n",
    "        pass\n",
    "    def read_odometer(self):\n",
    "        print(\"This car has \" + str(self.odometer_reading)+\" miles on it!\")\n",
    "    def update_odometer(self,milege):\n",
    "        self.odometer_reading = milege\n",
    "        "
   ]
  },
  {
   "cell_type": "code",
   "execution_count": 3,
   "metadata": {
    "tags": []
   },
   "outputs": [
    {
     "output_type": "stream",
     "name": "stdout",
     "text": "This car has 0 miles on it!\nThis car has 23 miles on it!\n"
    }
   ],
   "source": [
    "my_new_car = Car('audi','a4',2019)\n",
    "my_new_car.read_odometer()\n",
    "my_new_car.update_odometer(23)\n",
    "my_new_car.read_odometer()"
   ]
  },
  {
   "cell_type": "code",
   "execution_count": 9,
   "metadata": {
    "tags": []
   },
   "outputs": [
    {
     "output_type": "stream",
     "name": "stdout",
     "text": "the restaurant's name is: jacky chan\n"
    }
   ],
   "source": [
    "import chapter_9\n",
    "res = chapter_9.Restaurant(\"jacky chan\",\"chicken\")\n",
    "res.describe_restaurant()"
   ]
  },
  {
   "cell_type": "code",
   "execution_count": null,
   "metadata": {},
   "outputs": [],
   "source": []
  }
 ]
}