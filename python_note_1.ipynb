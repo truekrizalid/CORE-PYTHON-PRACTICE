{
 "metadata": {
  "language_info": {
   "codemirror_mode": {
    "name": "ipython",
    "version": 3
   },
   "file_extension": ".py",
   "mimetype": "text/x-python",
   "name": "python",
   "nbconvert_exporter": "python",
   "pygments_lexer": "ipython3",
   "version": "3.6.0-final"
  },
  "orig_nbformat": 2,
  "kernelspec": {
   "name": "python3",
   "display_name": "Python 3"
  }
 },
 "nbformat": 4,
 "nbformat_minor": 2,
 "cells": [
  {
   "cell_type": "code",
   "execution_count": 6,
   "metadata": {
    "tags": []
   },
   "outputs": [
    {
     "output_type": "stream",
     "name": "stdout",
     "text": "\n I have a hamster.\nmy hamster's name is Harry.\n\n I have a hamster.\nmy hamster's name is Harry.\n"
    }
   ],
   "source": [
    "def describe_pet(animal_type,pet_name):\n",
    "    print(\"\\n I have a \"+animal_type+\".\")\n",
    "    print(\"my \"+animal_type+\"'s name is \"+pet_name.title()+\".\")\n",
    "# 在实参中将名称和值关联在一起，就可以避免在向函数传递实参时发生混淆！\n",
    "describe_pet(pet_name = \"harry\",animal_type = \"hamster\") \n",
    "describe_pet(\"hamster\",\"harry\")"
   ]
  },
  {
   "cell_type": "code",
   "execution_count": 9,
   "metadata": {
    "tags": []
   },
   "outputs": [
    {
     "output_type": "stream",
     "name": "stdout",
     "text": "John  Hooker\nJohn Lee Hooker\n"
    }
   ],
   "source": [
    "def get_formatted_name(first_name,last_name,mid_name=\"\"):\n",
    "    full_name = first_name+ \" \"+mid_name+\" \"+last_name\n",
    "    return full_name.title()\n",
    "\n",
    "musician = get_formatted_name(\"john\",\"hooker\")\n",
    "print(musician)\n",
    "musician = get_formatted_name(\"john\",\"hooker\",\"lee\")\n",
    "print(musician)"
   ]
  },
  {
   "cell_type": "code",
   "execution_count": 16,
   "metadata": {
    "tags": []
   },
   "outputs": [
    {
     "output_type": "stream",
     "name": "stdout",
     "text": "{'first': 'Jimi', 'last': 'Hendrix'}\nJimi\n"
    }
   ],
   "source": [
    "def build_person(first_name, last_name):\n",
    "    person = {'first':first_name.title(),\"last\":last_name.title()}\n",
    "    return person\n",
    "\n",
    "musician = build_person(\"jimi\",\"hendrix\")\n",
    "print(musician)\n",
    "print(musician[\"first\"])"
   ]
  },
  {
   "cell_type": "code",
   "execution_count": null,
   "metadata": {},
   "outputs": [],
   "source": []
  }
 ]
}