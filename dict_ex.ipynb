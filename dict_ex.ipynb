{
 "cells": [
  {
   "cell_type": "code",
   "execution_count": 1,
   "metadata": {},
   "outputs": [
    {
     "name": "stdout",
     "output_type": "stream",
     "text": [
      "{'x': 1, 'y': 2, 'z': 3} {'name': 'earth', 'port': 80}\n",
      "key=x,Value=1\n",
      "key=y,Value=2\n",
      "key=z,Value=3\n"
     ]
    }
   ],
   "source": [
    "dict1 = {}\n",
    "dict2 = {'name':'earth','port':80}\n",
    "(dict1,dict2)\n",
    "fdict = dict((['x',1],['y',2],['z',3]))\n",
    "print(fdict,dict2)\n",
    "for key in fdict :\n",
    "    print(\"key=%s,Value=%d\" % (key,fdict[key]))"
   ]
  },
  {
   "cell_type": "code",
   "execution_count": 2,
   "metadata": {},
   "outputs": [
    {
     "data": {
      "text/plain": [
       "({'x': -1, 'y': -1, 'z': -1}, {'x': 1, 'y': 2, 'z': 3})"
      ]
     },
     "execution_count": 2,
     "metadata": {},
     "output_type": "execute_result"
    }
   ],
   "source": [
    "creatdict = {}.fromkeys(('x','y','z'),-1) # 创建字典的方法\n",
    "creatdict,fdict"
   ]
  },
  {
   "cell_type": "code",
   "execution_count": 3,
   "metadata": {},
   "outputs": [
    {
     "name": "stdout",
     "output_type": "stream",
     "text": [
      "name=x and Value= 1\n",
      "name=y and Value= 2\n",
      "name=z and Value= 3\n"
     ]
    }
   ],
   "source": [
    "for name in fdict.keys():   #注意与cell[2]的区别\n",
    "    print (\"name=%s and Value= %s\"%(name,fdict[name]))\n"
   ]
  },
  {
   "cell_type": "markdown",
   "metadata": {},
   "source": [
    "### 字典中可以混用字符串和数字"
   ]
  },
  {
   "cell_type": "code",
   "execution_count": 4,
   "metadata": {},
   "outputs": [
    {
     "name": "stdout",
     "output_type": "stream",
     "text": [
      "xyz\n",
      "{1: 'abc', '1': 3.14159} xyz\n"
     ]
    }
   ],
   "source": [
    "dict3 ={3.2: 'xyz', 1: 'abc', '1': 3.14159}\n",
    "print(dict3[3.2]) # 如果写成dict[\"3.2\"]就会报错\n",
    "z = dict3.pop(3.2) #删除键:值同时返回对应键的值\n",
    "print(dict3,z)"
   ]
  },
  {
   "cell_type": "code",
   "execution_count": 5,
   "metadata": {},
   "outputs": [
    {
     "name": "stdout",
     "output_type": "stream",
     "text": [
      "1 abc\n",
      "1 3.14159\n"
     ]
    }
   ],
   "source": [
    "for k,v in dict3.items(): #访问方法\n",
    "    print(k,v)"
   ]
  },
  {
   "cell_type": "code",
   "execution_count": 6,
   "metadata": {},
   "outputs": [
    {
     "ename": "KeyError",
     "evalue": "'xyz'",
     "output_type": "error",
     "traceback": [
      "\u001b[1;31m---------------------------------------------------------------------------\u001b[0m",
      "\u001b[1;31mKeyError\u001b[0m                                  Traceback (most recent call last)",
      "\u001b[1;32m<ipython-input-6-93a96d539e5f>\u001b[0m in \u001b[0;36m<module>\u001b[1;34m()\u001b[0m\n\u001b[1;32m----> 1\u001b[1;33m \u001b[0mdict3\u001b[0m\u001b[1;33m[\u001b[0m\u001b[1;34m'xyz'\u001b[0m\u001b[1;33m]\u001b[0m\u001b[1;33m\u001b[0m\u001b[0m\n\u001b[0m",
      "\u001b[1;31mKeyError\u001b[0m: 'xyz'"
     ]
    }
   ],
   "source": [
    "dict3['xyz']"
   ]
  },
  {
   "cell_type": "code",
   "execution_count": null,
   "metadata": {},
   "outputs": [],
   "source": []
  }
 ],
 "metadata": {
  "kernelspec": {
   "display_name": "Python 3",
   "language": "python",
   "name": "python3"
  },
  "language_info": {
   "codemirror_mode": {
    "name": "ipython",
    "version": 3
   },
   "file_extension": ".py",
   "mimetype": "text/x-python",
   "name": "python",
   "nbconvert_exporter": "python",
   "pygments_lexer": "ipython3",
   "version": "3.6.0"
  }
 },
 "nbformat": 4,
 "nbformat_minor": 2
}
