{
 "cells": [
  {
   "cell_type": "code",
   "execution_count": 2,
   "metadata": {
    "collapsed": true
   },
   "outputs": [],
   "source": [
    "def f(x,t):\n",
    "    return -1*x*t\n",
    "def delta1(x,t,dt):\n",
    "    return dt*f(x,t)\n",
    "def delta2(x,t,dt):\n",
    "    return dt*f(x+1/2*delta1(x,t,dt),t+1/2*dt)\n",
    "def delta3(x,t,dt):\n",
    "    return dt*f(x+1/2*delta2(x,t,dt),t+1/2*dt)\n",
    "def delta4(x,t,dt):\n",
    "    return dt*f(x+delta3(x,t,dt),t+dt)\n",
    "\n"
   ]
  },
  {
   "cell_type": "code",
   "execution_count": 7,
   "metadata": {},
   "outputs": [
    {
     "data": {
      "text/plain": [
       "-0.0"
      ]
     },
     "execution_count": 7,
     "metadata": {},
     "output_type": "execute_result"
    }
   ],
   "source": [
    "x0,t0=2.0,0.0\n",
    "import numpy as np\n",
    "import matplotlib.pyplot as plt\n",
    "dt = 0.01\n",
    "delta2(x0,t0,dt)\n"
   ]
  },
  {
   "cell_type": "markdown",
   "metadata": {},
   "source": [
    "## 6.1 序列"
   ]
  },
  {
   "cell_type": "code",
   "execution_count": 10,
   "metadata": {},
   "outputs": [
    {
     "name": "stdout",
     "output_type": "stream",
     "text": [
      "--------------OUT PUT---------------------\n",
      "['123', 4, 5, 67]\n",
      "['123', 4, 5]\n",
      "['123', 5]\n",
      "True\n",
      "False\n",
      "['123', 4, 5, 67, '123', 4, 5, 67]\n",
      "[67, 5, 4, '123', '123', 4, 5, 67]\n"
     ]
    }
   ],
   "source": [
    "a = [ \"123\",4,5,67]\n",
    "print\"--------------OUT PUT---------------------\"\n",
    "print a[0:] #打印全部元素\n",
    "print a[0:-1] # 打印除最后元素外的其它列表元素\n",
    "print a[0::2] # print list elements with index increase by  c  *[a:b:c]\n",
    "b = \"123\" in a # 判断某对象是否在序列中 decide elements in seqs or not\n",
    "print b\n",
    "c = \"123\" not in a\n",
    "print c\n",
    "print a*2\n",
    "print a[::-1]+a[:] #倒序连接\n"
   ]
  },
  {
   "cell_type": "code",
   "execution_count": 22,
   "metadata": {},
   "outputs": [
    {
     "name": "stdout",
     "output_type": "stream",
     "text": [
      "[67, 5, 4]\n",
      "['123', 4, 5, 67]\n",
      "['123', 4, 5, 67]\n",
      "a[0---->len(a)-1] equals a[-len(a)------->-1]\n",
      "['123', 4, 5] \t['123', 4, 5]\n",
      "['123', 4, 5, 67] \t[] \t['123', 4, 5, 67]\n"
     ]
    }
   ],
   "source": [
    "print a[-1:0:-1] ##倒序输出数组元素\n",
    "print a[-50:50] ## still functional to print all elements in seqs\n",
    "print a[-50:50:1] # -50 \n",
    "print \"a[0---->len(a)-1] equals a[-len(a)------->-1]\"\n",
    "print a[0:len(a)-1] ,\"\\t\",a[-len(a):-1]\n",
    "print a[0:len(a)],\"\\t\",a[-len(a):0],\"\\t\",a[-len(a):len(a)] # 注意这三者之间的区别，0 & -len（a）is the same index within the seq\n"
   ]
  },
  {
   "cell_type": "code",
   "execution_count": 38,
   "metadata": {},
   "outputs": [
    {
     "name": "stdout",
     "output_type": "stream",
     "text": [
      "abcdefghijk\n",
      "abcdefghij\n",
      "abcdefghi\n",
      "abcdefgh\n",
      "abcdefg\n",
      "abcdef\n",
      "abcde\n",
      "abcd\n",
      "abc\n",
      "ab\n",
      "a\n",
      "\n",
      "----------------------\n",
      "\n",
      "a\n",
      "ab\n",
      "abc\n",
      "abcd\n",
      "abcde\n",
      "abcdef\n",
      "abcdefg\n",
      "abcdefgh\n",
      "abcdefghi\n",
      "abcdefghij\n",
      "abcdefghijk\n",
      "----------------------\n"
     ]
    }
   ],
   "source": [
    "c = \"abcdefghijk\"         #按照不同顺序输出序列元素\n",
    "for i in range(len(c)+1):\n",
    "    print c[0:len(c)-i ]\n",
    "print\"----------------------\"\n",
    "for i in range(0,len(c)+1):\n",
    "    print c[0:i]\n",
    "print\"----------------------\""
   ]
  },
  {
   "cell_type": "markdown",
   "metadata": {},
   "source": []
  }
 ],
 "metadata": {
  "kernelspec": {
   "display_name": "Python 2",
   "language": "python",
   "name": "python2"
  },
  "language_info": {
   "codemirror_mode": {
    "name": "ipython",
    "version": 2
   },
   "file_extension": ".py",
   "mimetype": "text/x-python",
   "name": "python",
   "nbconvert_exporter": "python",
   "pygments_lexer": "ipython2",
   "version": "2.7.13"
  }
 },
 "nbformat": 4,
 "nbformat_minor": 2
}
