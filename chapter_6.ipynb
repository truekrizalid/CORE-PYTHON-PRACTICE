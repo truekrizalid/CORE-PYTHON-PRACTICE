{
 "cells": [
  {
   "cell_type": "code",
   "execution_count": null,
   "metadata": {},
   "outputs": [],
   "source": [
    "def f(x,t):\n",
    "    return -1*x*t\n",
    "def delta1(x,t,dt):\n",
    "    return dt*f(x,t)\n",
    "def delta2(x,t,dt):\n",
    "    return dt*f(x+1/2*delta1(x,t,dt),t+1/2*dt)\n",
    "def delta3(x,t,dt):\n",
    "    return dt*f(x+1/2*delta2(x,t,dt),t+1/2*dt)\n",
    "def delta4(x,t,dt):\n",
    "    return dt*f(x+delta3(x,t,dt),t+dt)\n",
    "\n"
   ]
  },
  {
   "cell_type": "code",
   "execution_count": null,
   "metadata": {},
   "outputs": [],
   "source": [
    "x0,t0=2.0,0.0\n",
    "import numpy as np\n",
    "import matplotlib.pyplot as plt\n",
    "dt = 0.01\n",
    "delta2(x0,t0,dt)\n"
   ]
  },
  {
   "cell_type": "markdown",
   "metadata": {},
   "source": [
    "## 6.1 序列"
   ]
  },
  {
   "cell_type": "code",
   "execution_count": null,
   "metadata": {},
   "outputs": [],
   "source": [
    "a = [ \"123\",4,5,67]\n",
    "print\"--------------OUT PUT---------------------\"\n",
    "print a[0:] #打印全部元素\n",
    "print a[0:-1] # 打印除最后元素外的其它列表元素\n",
    "print a[0::2] # print list elements with index increase by  c  *[a:b:c]\n",
    "b = \"123\" in a # 判断某对象是否在序列中 decide elements in seqs or not\n",
    "print b\n",
    "c = \"123\" not in a\n",
    "print c\n",
    "print a*2\n",
    "print a[::-1]+a[:] #倒序连接\n"
   ]
  },
  {
   "cell_type": "code",
   "execution_count": null,
   "metadata": {},
   "outputs": [],
   "source": [
    "print a[-1:0:-1] ##倒序输出数组元素\n",
    "print a[-50:50] ## still functional to print all elements in seqs\n",
    "print a[-50:50:1] # -50 \n",
    "print \"a[0---->len(a)-1] equals a[-len(a)------->-1]\"\n",
    "print a[0:len(a)-1] ,\"\\t\",a[-len(a):-1]\n",
    "print a[0:len(a)],\"\\t\",a[-len(a):0],\"\\t\",a[-len(a):len(a)] # 注意这三者之间的区别，0 & -len（a）is the same index within the seq\n"
   ]
  },
  {
   "cell_type": "code",
   "execution_count": null,
   "metadata": {},
   "outputs": [],
   "source": [
    "c = \"abcdefghijk\"         #按照不同顺序输出序列元素\n",
    "for i in range(len(c)+1):\n",
    "    print c[0:len(c)-i ]\n",
    "print\"----------------------\"\n",
    "for i in range(0,len(c)+1):\n",
    "    print c[0:i]\n",
    "print\"----------------------\""
   ]
  },
  {
   "cell_type": "code",
   "execution_count": null,
   "metadata": {},
   "outputs": [],
   "source": [
    "help(\"enumerate\")\n",
    "#接受一个可迭代对象作为参数，返回一个 enumerate 对象(同 时也是一个迭代器),该对象生成由 iter 每个元素的 index 值 和 item 值组成的元组\n"
   ]
  },
  {
   "cell_type": "code",
   "execution_count": null,
   "metadata": {},
   "outputs": [],
   "source": [
    "#例子\n",
    "seasons = ['Spring', 'Summer', 'Fall', 'Winter']\n",
    "t = list(enumerate(seasons,1))\n",
    "t[1]"
   ]
  },
  {
   "cell_type": "code",
   "execution_count": null,
   "metadata": {},
   "outputs": [],
   "source": [
    "x = 1 \n",
    "b = 'abc'\n",
    "print(\"the word{:.2f} come from {:.2s}\").format(x,b)"
   ]
  },
  {
   "cell_type": "code",
   "execution_count": null,
   "metadata": {},
   "outputs": [],
   "source": [
    "help(\"zip\")\n",
    "help(\"reversed\")"
   ]
  },
  {
   "cell_type": "code",
   "execution_count": null,
   "metadata": {},
   "outputs": [],
   "source": [
    "x=[\"abc\",'efg','hgk']\n",
    "y=['123','345','789']\n",
    "z = zip(x,y)\n",
    "print(z)"
   ]
  },
  {
   "cell_type": "code",
   "execution_count": null,
   "metadata": {},
   "outputs": [],
   "source": [
    "import string\n",
    "for item in reversed(x):    #返回一个逆序的迭代器\n",
    "    item = list(item)        # 将字符串转化成列表\n",
    "    item.__delitem__(1)      # delete index = 1 item\n",
    "    item =\"\".join(item)\n",
    "    print(item)"
   ]
  },
  {
   "cell_type": "code",
   "execution_count": null,
   "metadata": {},
   "outputs": [],
   "source": [
    "y = \"\".join(x)\n",
    "print(y)\n",
    "z = list(y)\n",
    "print(z)\n",
    "del z[1]\n",
    "print(\"\".join(z))"
   ]
  },
  {
   "cell_type": "code",
   "execution_count": null,
   "metadata": {},
   "outputs": [],
   "source": [
    "x=raw_input(\">> Enter words:\")\n",
    "print (\"i entered %s\"%x)"
   ]
  },
  {
   "cell_type": "code",
   "execution_count": null,
   "metadata": {},
   "outputs": [],
   "source": [
    "help(\"print\")"
   ]
  },
  {
   "cell_type": "code",
   "execution_count": null,
   "metadata": {},
   "outputs": [],
   "source": [
    "for i in range(255):\n",
    "    x = unichr(i)\n",
    "    print(x)"
   ]
  },
  {
   "cell_type": "code",
   "execution_count": null,
   "metadata": {},
   "outputs": [],
   "source": [
    "x = unichr(6)\n",
    "print(x)\n",
    "print(ord(x))  # ord()与 unichr（）函数配对"
   ]
  },
  {
   "cell_type": "code",
   "execution_count": null,
   "metadata": {},
   "outputs": [],
   "source": [
    "from IPython.core.interactiveshell import InteractiveShell\n",
    "InteractiveShell.ast_node_interactivity = \"all\"\n",
    "x =1\n",
    "y =2 \n",
    "x\n",
    "y"
   ]
  },
  {
   "cell_type": "code",
   "execution_count": 1,
   "metadata": {},
   "outputs": [
    {
     "name": "stdout",
     "output_type": "stream",
     "text": [
      "\n",
      "    p(U)sh\n",
      "    p(O)p\n",
      "    (V)iew\n",
      "    (Q)uit\n",
      "    \n",
      "    Enter choice:u\n",
      "\n",
      " You picked: [u]\n",
      "Enter new string:python\n",
      "\n",
      "    p(U)sh\n",
      "    p(O)p\n",
      "    (V)iew\n",
      "    (Q)uit\n",
      "    \n",
      "    Enter choice:o\n",
      "\n",
      " You picked: [o]\n",
      "Removed[ python ]\n",
      "\n",
      "    p(U)sh\n",
      "    p(O)p\n",
      "    (V)iew\n",
      "    (Q)uit\n",
      "    \n",
      "    Enter choice:v\n",
      "\n",
      " You picked: [v]\n",
      "[]\n",
      "\n",
      "    p(U)sh\n",
      "    p(O)p\n",
      "    (V)iew\n",
      "    (Q)uit\n",
      "    \n",
      "    Enter choice:u\n",
      "\n",
      " You picked: [u]\n",
      "Enter new string:python is cool\n",
      "\n",
      "    p(U)sh\n",
      "    p(O)p\n",
      "    (V)iew\n",
      "    (Q)uit\n",
      "    \n",
      "    Enter choice:v\n",
      "\n",
      " You picked: [v]\n",
      "['python is cool']\n",
      "\n",
      "    p(U)sh\n",
      "    p(O)p\n",
      "    (V)iew\n",
      "    (Q)uit\n",
      "    \n",
      "    Enter choice:o\n",
      "\n",
      " You picked: [o]\n",
      "Removed[ python is cool ]\n",
      "\n",
      "    p(U)sh\n",
      "    p(O)p\n",
      "    (V)iew\n",
      "    (Q)uit\n",
      "    \n",
      "    Enter choice:v\n",
      "\n",
      " You picked: [v]\n",
      "[]\n",
      "\n",
      "    p(U)sh\n",
      "    p(O)p\n",
      "    (V)iew\n",
      "    (Q)uit\n",
      "    \n",
      "    Enter choice:p\n",
      "\n",
      " You picked: [p]\n",
      "invalid option , try again!\n",
      "\n",
      "    p(U)sh\n",
      "    p(O)p\n",
      "    (V)iew\n",
      "    (Q)uit\n",
      "    \n",
      "    Enter choice:u\n",
      "\n",
      " You picked: [u]\n",
      "Enter new string:python\n",
      "\n",
      "    p(U)sh\n",
      "    p(O)p\n",
      "    (V)iew\n",
      "    (Q)uit\n",
      "    \n",
      "    Enter choice:u\n",
      "\n",
      " You picked: [u]\n",
      "Enter new string:is\n",
      "\n",
      "    p(U)sh\n",
      "    p(O)p\n",
      "    (V)iew\n",
      "    (Q)uit\n",
      "    \n",
      "    Enter choice:u\n",
      "\n",
      " You picked: [u]\n",
      "Enter new string:cool\n",
      "\n",
      "    p(U)sh\n",
      "    p(O)p\n",
      "    (V)iew\n",
      "    (Q)uit\n",
      "    \n",
      "    Enter choice:v\n",
      "\n",
      " You picked: [v]\n",
      "['python', 'is', 'cool']\n",
      "\n",
      "    p(U)sh\n",
      "    p(O)p\n",
      "    (V)iew\n",
      "    (Q)uit\n",
      "    \n",
      "    Enter choice:o\n",
      "\n",
      " You picked: [o]\n",
      "Removed[ cool ]\n",
      "\n",
      "    p(U)sh\n",
      "    p(O)p\n",
      "    (V)iew\n",
      "    (Q)uit\n",
      "    \n",
      "    Enter choice:v\n",
      "\n",
      " You picked: [v]\n",
      "['python', 'is']\n",
      "\n",
      "    p(U)sh\n",
      "    p(O)p\n",
      "    (V)iew\n",
      "    (Q)uit\n",
      "    \n",
      "    Enter choice:q\n",
      "\n",
      " You picked: [q]\n"
     ]
    }
   ],
   "source": [
    "stack = []\n",
    "def pushit():\n",
    "    stack.append(input('Enter new string:').strip())\n",
    "    \n",
    "def popit():\n",
    "    if len(stack)==0:\n",
    "        print ('Cannot pop from an empty stack!')\n",
    "    else :\n",
    "        print ('Removed[',stack.pop(),']')\n",
    "        \n",
    "def viewstack():\n",
    "    print (stack)\n",
    "    \n",
    "CMDs ={'u':pushit, 'o':popit,'v':viewstack}\n",
    "\n",
    "def showmenu():\n",
    "    pr = \"\"\"\n",
    "    p(U)sh\n",
    "    p(O)p\n",
    "    (V)iew\n",
    "    (Q)uit\n",
    "    \n",
    "    Enter choice:\"\"\"\n",
    "    \n",
    "    while True:\n",
    "        while True:\n",
    "            try:\n",
    "                choice = input(pr).strip()[0].lower()\n",
    "            except(EOFError,KeyboardInterrupt,IndexError):\n",
    "                choice = 'q'\n",
    "                \n",
    "            print ('\\n You picked: [%s]'%choice)\n",
    "            if choice not in 'uovq':\n",
    "                print(\"invalid option , try again!\")\n",
    "            else:\n",
    "                break\n",
    "                \n",
    "        if choice == 'q':\n",
    "            break\n",
    "        CMDs[choice]()\n",
    "            \n",
    "if __name__ == '__main__':\n",
    "    showmenu()\n",
    "    \n",
    "    "
   ]
  },
  {
   "cell_type": "code",
   "execution_count": 3,
   "metadata": {},
   "outputs": [
    {
     "name": "stdout",
     "output_type": "stream",
     "text": [
      "hello by phone\n"
     ]
    }
   ],
   "source": [
    "\n",
    "def call():\n",
    "    print(\"hello\")\n",
    "    \n",
    "def telephone():\n",
    "    print(\"hello by phone\")\n",
    "    \n",
    "CMD = {\"t\":telephone,\"c\":call}\n",
    "CMD[\"t\"]()"
   ]
  },
  {
   "cell_type": "code",
   "execution_count": 2,
   "metadata": {},
   "outputs": [
    {
     "name": "stdout",
     "output_type": "stream",
     "text": [
      "['hello']\n",
      "['hello']\n"
     ]
    }
   ],
   "source": [
    "Var = []\n",
    "def change():\n",
    "   # Var = []\n",
    "    Var.append(\"hello\")\n",
    "    print(Var)\n",
    "    \n",
    "change()\n",
    "print(Var)\n"
   ]
  },
  {
   "cell_type": "code",
   "execution_count": null,
   "metadata": {},
   "outputs": [],
   "source": []
  }
 ],
 "metadata": {
  "kernelspec": {
   "display_name": "Python 3",
   "language": "python",
   "name": "python3"
  },
  "language_info": {
   "codemirror_mode": {
    "name": "ipython",
    "version": 3
   },
   "file_extension": ".py",
   "mimetype": "text/x-python",
   "name": "python",
   "nbconvert_exporter": "python",
   "pygments_lexer": "ipython3",
   "version": "3.6.0"
  }
 },
 "nbformat": 4,
 "nbformat_minor": 2
}
