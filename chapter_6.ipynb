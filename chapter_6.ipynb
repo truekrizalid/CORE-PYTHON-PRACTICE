{
 "cells": [
  {
   "cell_type": "code",
   "execution_count": null,
   "metadata": {},
   "outputs": [],
   "source": [
    "def f(x,t):\n",
    "    return -1*x*t\n",
    "def delta1(x,t,dt):\n",
    "    return dt*f(x,t)\n",
    "def delta2(x,t,dt):\n",
    "    return dt*f(x+1/2*delta1(x,t,dt),t+1/2*dt)\n",
    "def delta3(x,t,dt):\n",
    "    return dt*f(x+1/2*delta2(x,t,dt),t+1/2*dt)\n",
    "def delta4(x,t,dt):\n",
    "    return dt*f(x+delta3(x,t,dt),t+dt)\n",
    "\n"
   ]
  },
  {
   "cell_type": "code",
   "execution_count": null,
   "metadata": {},
   "outputs": [],
   "source": [
    "x0,t0=2.0,0.0\n",
    "import numpy as np\n",
    "import matplotlib.pyplot as plt\n",
    "dt = 0.01\n",
    "delta2(x0,t0,dt)\n"
   ]
  },
  {
   "cell_type": "markdown",
   "metadata": {},
   "source": [
    "## 6.1 序列"
   ]
  },
  {
   "cell_type": "code",
   "execution_count": null,
   "metadata": {},
   "outputs": [],
   "source": [
    "a = [ \"123\",4,5,67]\n",
    "print\"--------------OUT PUT---------------------\"\n",
    "print a[0:] #打印全部元素\n",
    "print a[0:-1] # 打印除最后元素外的其它列表元素\n",
    "print a[0::2] # print list elements with index increase by  c  *[a:b:c]\n",
    "b = \"123\" in a # 判断某对象是否在序列中 decide elements in seqs or not\n",
    "print b\n",
    "c = \"123\" not in a\n",
    "print c\n",
    "print a*2\n",
    "print a[::-1]+a[:] #倒序连接\n"
   ]
  },
  {
   "cell_type": "code",
   "execution_count": null,
   "metadata": {},
   "outputs": [],
   "source": [
    "print a[-1:0:-1] ##倒序输出数组元素\n",
    "print a[-50:50] ## still functional to print all elements in seqs\n",
    "print a[-50:50:1] # -50 \n",
    "print \"a[0---->len(a)-1] equals a[-len(a)------->-1]\"\n",
    "print a[0:len(a)-1] ,\"\\t\",a[-len(a):-1]\n",
    "print a[0:len(a)],\"\\t\",a[-len(a):0],\"\\t\",a[-len(a):len(a)] # 注意这三者之间的区别，0 & -len（a）is the same index within the seq\n"
   ]
  },
  {
   "cell_type": "code",
   "execution_count": null,
   "metadata": {},
   "outputs": [],
   "source": [
    "c = \"abcdefghijk\"         #按照不同顺序输出序列元素\n",
    "for i in range(len(c)+1):\n",
    "    print c[0:len(c)-i ]\n",
    "print\"----------------------\"\n",
    "for i in range(0,len(c)+1):\n",
    "    print c[0:i]\n",
    "print\"----------------------\""
   ]
  },
  {
   "cell_type": "code",
   "execution_count": null,
   "metadata": {},
   "outputs": [],
   "source": [
    "help(\"enumerate\")\n",
    "#接受一个可迭代对象作为参数，返回一个 enumerate 对象(同 时也是一个迭代器),该对象生成由 iter 每个元素的 index 值 和 item 值组成的元组\n"
   ]
  },
  {
   "cell_type": "code",
   "execution_count": null,
   "metadata": {},
   "outputs": [],
   "source": [
    "#例子\n",
    "seasons = ['Spring', 'Summer', 'Fall', 'Winter']\n",
    "t = list(enumerate(seasons,1))\n",
    "t[1]"
   ]
  },
  {
   "cell_type": "code",
   "execution_count": null,
   "metadata": {},
   "outputs": [],
   "source": [
    "x = 1 \n",
    "b = 'abc'\n",
    "print(\"the word{:.2f} come from {:.2s}\").format(x,b)"
   ]
  },
  {
   "cell_type": "code",
   "execution_count": null,
   "metadata": {},
   "outputs": [],
   "source": [
    "help(\"zip\")\n",
    "help(\"reversed\")"
   ]
  },
  {
   "cell_type": "code",
   "execution_count": null,
   "metadata": {},
   "outputs": [],
   "source": [
    "x=[\"abc\",'efg','hgk']\n",
    "y=['123','345','789']\n",
    "z = zip(x,y)\n",
    "print(z)"
   ]
  },
  {
   "cell_type": "code",
   "execution_count": null,
   "metadata": {},
   "outputs": [],
   "source": [
    "import string\n",
    "for item in reversed(x):    #返回一个逆序的迭代器\n",
    "    item = list(item)        # 将字符串转化成列表\n",
    "    item.__delitem__(1)      # delete index = 1 item\n",
    "    item =\"\".join(item)\n",
    "    print(item)"
   ]
  },
  {
   "cell_type": "code",
   "execution_count": null,
   "metadata": {},
   "outputs": [],
   "source": [
    "y = \"\".join(x)\n",
    "print(y)\n",
    "z = list(y)\n",
    "print(z)\n",
    "del z[1]\n",
    "print(\"\".join(z))"
   ]
  },
  {
   "cell_type": "code",
   "execution_count": null,
   "metadata": {},
   "outputs": [],
   "source": [
    "x=raw_input(\">> Enter words:\")\n",
    "print (\"i entered %s\"%x)"
   ]
  },
  {
   "cell_type": "code",
   "execution_count": null,
   "metadata": {},
   "outputs": [],
   "source": [
    "help(\"print\")"
   ]
  },
  {
   "cell_type": "code",
   "execution_count": null,
   "metadata": {},
   "outputs": [],
   "source": [
    "for i in range(255):\n",
    "    x = unichr(i)\n",
    "    print(x)"
   ]
  },
  {
   "cell_type": "code",
   "execution_count": null,
   "metadata": {},
   "outputs": [],
   "source": [
    "x = unichr(6)\n",
    "print(x)\n",
    "print(ord(x))  # ord()与 unichr（）函数配对"
   ]
  },
  {
   "cell_type": "code",
   "execution_count": 1,
   "metadata": {},
   "outputs": [
    {
     "data": {
      "text/plain": [
       "2"
      ]
     },
     "execution_count": 1,
     "metadata": {},
     "output_type": "execute_result"
    }
   ],
   "source": [
    "from IPython.core.interactiveshell import InteractiveShell\n",
    "InteractiveShell.ast_node_interactivity = \"all\"\n",
    "x =1\n",
    "y =2 \n",
    "x\n",
    "y"
   ]
  },
  {
   "cell_type": "code",
   "execution_count": 1,
   "metadata": {},
   "outputs": [
    {
     "name": "stdout",
     "output_type": "stream",
     "text": [
      "\n",
      "    p(U)sh\n",
      "    p(O)p\n",
      "    (V)iew\n",
      "    (Q)uit\n",
      "    \n",
      "    Enter choice:u\n",
      "\n",
      " You picked: [u]\n",
      "Enter new string:python\n",
      "\n",
      "    p(U)sh\n",
      "    p(O)p\n",
      "    (V)iew\n",
      "    (Q)uit\n",
      "    \n",
      "    Enter choice:o\n",
      "\n",
      " You picked: [o]\n",
      "Removed[ python ]\n",
      "\n",
      "    p(U)sh\n",
      "    p(O)p\n",
      "    (V)iew\n",
      "    (Q)uit\n",
      "    \n",
      "    Enter choice:v\n",
      "\n",
      " You picked: [v]\n",
      "[]\n",
      "\n",
      "    p(U)sh\n",
      "    p(O)p\n",
      "    (V)iew\n",
      "    (Q)uit\n",
      "    \n",
      "    Enter choice:u\n",
      "\n",
      " You picked: [u]\n",
      "Enter new string:python is cool\n",
      "\n",
      "    p(U)sh\n",
      "    p(O)p\n",
      "    (V)iew\n",
      "    (Q)uit\n",
      "    \n",
      "    Enter choice:v\n",
      "\n",
      " You picked: [v]\n",
      "['python is cool']\n",
      "\n",
      "    p(U)sh\n",
      "    p(O)p\n",
      "    (V)iew\n",
      "    (Q)uit\n",
      "    \n",
      "    Enter choice:o\n",
      "\n",
      " You picked: [o]\n",
      "Removed[ python is cool ]\n",
      "\n",
      "    p(U)sh\n",
      "    p(O)p\n",
      "    (V)iew\n",
      "    (Q)uit\n",
      "    \n",
      "    Enter choice:v\n",
      "\n",
      " You picked: [v]\n",
      "[]\n",
      "\n",
      "    p(U)sh\n",
      "    p(O)p\n",
      "    (V)iew\n",
      "    (Q)uit\n",
      "    \n",
      "    Enter choice:p\n",
      "\n",
      " You picked: [p]\n",
      "invalid option , try again!\n",
      "\n",
      "    p(U)sh\n",
      "    p(O)p\n",
      "    (V)iew\n",
      "    (Q)uit\n",
      "    \n",
      "    Enter choice:u\n",
      "\n",
      " You picked: [u]\n",
      "Enter new string:python\n",
      "\n",
      "    p(U)sh\n",
      "    p(O)p\n",
      "    (V)iew\n",
      "    (Q)uit\n",
      "    \n",
      "    Enter choice:u\n",
      "\n",
      " You picked: [u]\n",
      "Enter new string:is\n",
      "\n",
      "    p(U)sh\n",
      "    p(O)p\n",
      "    (V)iew\n",
      "    (Q)uit\n",
      "    \n",
      "    Enter choice:u\n",
      "\n",
      " You picked: [u]\n",
      "Enter new string:cool\n",
      "\n",
      "    p(U)sh\n",
      "    p(O)p\n",
      "    (V)iew\n",
      "    (Q)uit\n",
      "    \n",
      "    Enter choice:v\n",
      "\n",
      " You picked: [v]\n",
      "['python', 'is', 'cool']\n",
      "\n",
      "    p(U)sh\n",
      "    p(O)p\n",
      "    (V)iew\n",
      "    (Q)uit\n",
      "    \n",
      "    Enter choice:o\n",
      "\n",
      " You picked: [o]\n",
      "Removed[ cool ]\n",
      "\n",
      "    p(U)sh\n",
      "    p(O)p\n",
      "    (V)iew\n",
      "    (Q)uit\n",
      "    \n",
      "    Enter choice:v\n",
      "\n",
      " You picked: [v]\n",
      "['python', 'is']\n",
      "\n",
      "    p(U)sh\n",
      "    p(O)p\n",
      "    (V)iew\n",
      "    (Q)uit\n",
      "    \n",
      "    Enter choice:q\n",
      "\n",
      " You picked: [q]\n"
     ]
    }
   ],
   "source": [
    "stack = []\n",
    "def pushit():\n",
    "    stack.append(input('Enter new string:').strip())\n",
    "    \n",
    "def popit():\n",
    "    if len(stack)==0:\n",
    "        print ('Cannot pop from an empty stack!')\n",
    "    else :\n",
    "        print ('Removed[',stack.pop(),']')\n",
    "        \n",
    "def viewstack():\n",
    "    print (stack)\n",
    "    \n",
    "CMDs ={'u':pushit, 'o':popit,'v':viewstack}\n",
    "\n",
    "def showmenu():\n",
    "    pr = \"\"\"\n",
    "    p(U)sh\n",
    "    p(O)p\n",
    "    (V)iew\n",
    "    (Q)uit\n",
    "    \n",
    "    Enter choice:\"\"\"\n",
    "    \n",
    "    while True:\n",
    "        while True:\n",
    "            try:\n",
    "                choice = input(pr).strip()[0].lower()\n",
    "            except(EOFError,KeyboardInterrupt,IndexError):\n",
    "                choice = 'q'\n",
    "                \n",
    "            print ('\\n You picked: [%s]'%choice)\n",
    "            if choice not in 'uovq':\n",
    "                print(\"invalid option , try again!\")\n",
    "            else:\n",
    "                break\n",
    "                \n",
    "        if choice == 'q':\n",
    "            break\n",
    "        CMDs[choice]()\n",
    "            \n",
    "if __name__ == '__main__':\n",
    "    showmenu()\n",
    "    \n",
    "    "
   ]
  },
  {
   "cell_type": "code",
   "execution_count": 3,
   "metadata": {},
   "outputs": [
    {
     "name": "stdout",
     "output_type": "stream",
     "text": [
      "hello by phone\n"
     ]
    }
   ],
   "source": [
    "\n",
    "def call():\n",
    "    print(\"hello\")\n",
    "    \n",
    "def telephone():\n",
    "    print(\"hello by phone\")\n",
    "    \n",
    "CMD = {\"t\":telephone,\"c\":call}\n",
    "CMD[\"t\"]()"
   ]
  },
  {
   "cell_type": "code",
   "execution_count": 2,
   "metadata": {},
   "outputs": [
    {
     "name": "stdout",
     "output_type": "stream",
     "text": [
      "['hello']\n",
      "['hello']\n"
     ]
    }
   ],
   "source": [
    "Var = []\n",
    "def change():\n",
    "   # Var = []\n",
    "    Var.append(\"hello\")\n",
    "    print(Var)\n",
    "    \n",
    "change()\n",
    "print(Var)\n"
   ]
  },
  {
   "cell_type": "code",
   "execution_count": 10,
   "metadata": {},
   "outputs": [
    {
     "name": "stdout",
     "output_type": "stream",
     "text": [
      "true\n",
      "x is in a\n"
     ]
    }
   ],
   "source": [
    "x = 'abe'\n",
    "a ='abcde'\n",
    "if x not in a :\n",
    "    print(\"true\")\n",
    "else:\n",
    "    print(\"wrong\")\n",
    "    \n",
    "if a.find(x) == -1:\n",
    "    print (\"x is in a\")"
   ]
  },
  {
   "cell_type": "code",
   "execution_count": 7,
   "metadata": {},
   "outputs": [
    {
     "name": "stdout",
     "output_type": "stream",
     "text": [
      "Help on class list in module builtins:\n",
      "\n",
      "class list(object)\n",
      " |  list() -> new empty list\n",
      " |  list(iterable) -> new list initialized from iterable's items\n",
      " |  \n",
      " |  Methods defined here:\n",
      " |  \n",
      " |  __add__(self, value, /)\n",
      " |      Return self+value.\n",
      " |  \n",
      " |  __contains__(self, key, /)\n",
      " |      Return key in self.\n",
      " |  \n",
      " |  __delitem__(self, key, /)\n",
      " |      Delete self[key].\n",
      " |  \n",
      " |  __eq__(self, value, /)\n",
      " |      Return self==value.\n",
      " |  \n",
      " |  __ge__(self, value, /)\n",
      " |      Return self>=value.\n",
      " |  \n",
      " |  __getattribute__(self, name, /)\n",
      " |      Return getattr(self, name).\n",
      " |  \n",
      " |  __getitem__(...)\n",
      " |      x.__getitem__(y) <==> x[y]\n",
      " |  \n",
      " |  __gt__(self, value, /)\n",
      " |      Return self>value.\n",
      " |  \n",
      " |  __iadd__(self, value, /)\n",
      " |      Implement self+=value.\n",
      " |  \n",
      " |  __imul__(self, value, /)\n",
      " |      Implement self*=value.\n",
      " |  \n",
      " |  __init__(self, /, *args, **kwargs)\n",
      " |      Initialize self.  See help(type(self)) for accurate signature.\n",
      " |  \n",
      " |  __iter__(self, /)\n",
      " |      Implement iter(self).\n",
      " |  \n",
      " |  __le__(self, value, /)\n",
      " |      Return self<=value.\n",
      " |  \n",
      " |  __len__(self, /)\n",
      " |      Return len(self).\n",
      " |  \n",
      " |  __lt__(self, value, /)\n",
      " |      Return self<value.\n",
      " |  \n",
      " |  __mul__(self, value, /)\n",
      " |      Return self*value.n\n",
      " |  \n",
      " |  __ne__(self, value, /)\n",
      " |      Return self!=value.\n",
      " |  \n",
      " |  __new__(*args, **kwargs) from builtins.type\n",
      " |      Create and return a new object.  See help(type) for accurate signature.\n",
      " |  \n",
      " |  __repr__(self, /)\n",
      " |      Return repr(self).\n",
      " |  \n",
      " |  __reversed__(...)\n",
      " |      L.__reversed__() -- return a reverse iterator over the list\n",
      " |  \n",
      " |  __rmul__(self, value, /)\n",
      " |      Return self*value.\n",
      " |  \n",
      " |  __setitem__(self, key, value, /)\n",
      " |      Set self[key] to value.\n",
      " |  \n",
      " |  __sizeof__(...)\n",
      " |      L.__sizeof__() -- size of L in memory, in bytes\n",
      " |  \n",
      " |  append(...)\n",
      " |      L.append(object) -> None -- append object to end\n",
      " |  \n",
      " |  clear(...)\n",
      " |      L.clear() -> None -- remove all items from L\n",
      " |  \n",
      " |  copy(...)\n",
      " |      L.copy() -> list -- a shallow copy of L\n",
      " |  \n",
      " |  count(...)\n",
      " |      L.count(value) -> integer -- return number of occurrences of value\n",
      " |  \n",
      " |  extend(...)\n",
      " |      L.extend(iterable) -> None -- extend list by appending elements from the iterable\n",
      " |  \n",
      " |  index(...)\n",
      " |      L.index(value, [start, [stop]]) -> integer -- return first index of value.\n",
      " |      Raises ValueError if the value is not present.\n",
      " |  \n",
      " |  insert(...)\n",
      " |      L.insert(index, object) -- insert object before index\n",
      " |  \n",
      " |  pop(...)\n",
      " |      L.pop([index]) -> item -- remove and return item at index (default last).\n",
      " |      Raises IndexError if list is empty or index is out of range.\n",
      " |  \n",
      " |  remove(...)\n",
      " |      L.remove(value) -> None -- remove first occurrence of value.\n",
      " |      Raises ValueError if the value is not present.\n",
      " |  \n",
      " |  reverse(...)\n",
      " |      L.reverse() -- reverse *IN PLACE*\n",
      " |  \n",
      " |  sort(...)\n",
      " |      L.sort(key=None, reverse=False) -> None -- stable sort *IN PLACE*\n",
      " |  \n",
      " |  ----------------------------------------------------------------------\n",
      " |  Data and other attributes defined here:\n",
      " |  \n",
      " |  __hash__ = None\n",
      "\n"
     ]
    }
   ],
   "source": [
    "help(\"list\")"
   ]
  },
  {
   "cell_type": "code",
   "execution_count": 16,
   "metadata": {},
   "outputs": [
    {
     "name": "stdout",
     "output_type": "stream",
     "text": [
      ">>ab\n",
      ">>abc\n",
      ">>adf\n",
      ">>erer\n",
      ">>dfadf\n",
      ">>er\n",
      ">>e\n",
      "e is in string abcde\n"
     ]
    }
   ],
   "source": [
    "b = \"abcde\"\n",
    "\n",
    "while True :\n",
    "    x = input(\">>\")\n",
    "    if len(x) == 1:\n",
    "        if b.find(x) != -1 :\n",
    "            print (\"%s is in string %s\"%(x,b))\n",
    "            break\n",
    "        else :\n",
    "            print (\"%s is not in string %s\"%(x,b))\n",
    "            break\n",
    "    \n",
    "        \n",
    "    "
   ]
  },
  {
   "cell_type": "code",
   "execution_count": 28,
   "metadata": {},
   "outputs": [
    {
     "name": "stdout",
     "output_type": "stream",
     "text": [
      "['False', 'None', 'True', 'and', 'as', 'assert', 'break', 'class', 'continue', 'def', 'del', 'elif', 'else', 'except', 'finally', 'for', 'from', 'global', 'if', 'import', 'in', 'is', 'lambda', 'nonlocal', 'not', 'or', 'pass', 'raise', 'return', 'try', 'while', 'with', 'yield']\n"
     ]
    }
   ],
   "source": [
    "import keyword\n",
    "print(keyword.kwlist)"
   ]
  },
  {
   "cell_type": "code",
   "execution_count": 1,
   "metadata": {},
   "outputs": [
    {
     "name": "stdout",
     "output_type": "stream",
     "text": [
      "enter2+1\n"
     ]
    },
    {
     "data": {
      "text/plain": [
       "3"
      ]
     },
     "execution_count": 1,
     "metadata": {},
     "output_type": "execute_result"
    }
   ],
   "source": [
    "x = eval(input(\"enter\"))\n",
    "x"
   ]
  },
  {
   "cell_type": "code",
   "execution_count": 3,
   "metadata": {},
   "outputs": [
    {
     "name": "stdout",
     "output_type": "stream",
     "text": [
      "give input:2+4\n",
      "give input:3+6\n",
      "<class 'int'> + <class 'int'> becomes <class 'int'>\n",
      " with value 15\n"
     ]
    }
   ],
   "source": [
    "i1 = eval(input('give input:'))\n",
    "i2 = eval(input(\"give input:\"))\n",
    "r = i1 + i2\n",
    "print(\"%s + %s becomes %s\\n with value %s\" %\\\n",
    "  (type(i1),type(i2),type(r),r))\n"
   ]
  },
  {
   "cell_type": "code",
   "execution_count": 2,
   "metadata": {},
   "outputs": [
    {
     "name": "stdout",
     "output_type": "stream",
     "text": [
      "0\n",
      "1\n",
      "2\n",
      "3\n",
      "4\n"
     ]
    }
   ],
   "source": [
    "def fact(n):\n",
    "    for i in range(0,n):\n",
    "        print(i) \n",
    "        \n",
    "fact(5)"
   ]
  },
  {
   "cell_type": "code",
   "execution_count": 42,
   "metadata": {},
   "outputs": [
    {
     "name": "stdout",
     "output_type": "stream",
     "text": [
      "hello\n",
      "0\n",
      "1\n",
      "2\n",
      "3\n",
      "4\n"
     ]
    }
   ],
   "source": [
    "def deco_fact(func,*args):\n",
    "    def pr(*args):\n",
    "        print(\"hello\")\n",
    "        func(*args)\n",
    "    return pr\n",
    " \n",
    "n = 5\n",
    "\n",
    "@deco_fact\n",
    "def fact(n):\n",
    "    for i in range(0,n):\n",
    "        print(i) \n",
    "        \n",
    "fact(5)\n",
    "        "
   ]
  },
  {
   "cell_type": "code",
   "execution_count": 68,
   "metadata": {},
   "outputs": [
    {
     "name": "stdout",
     "output_type": "stream",
     "text": [
      "110\n"
     ]
    }
   ],
   "source": [
    "def trace(func,*args,**kwargs):\n",
    "    def ss(*args,**kwargs):\n",
    "     #func(*args)\n",
    "     print(func(*args,**kwargs)+10)   \n",
    "    return ss\n",
    "    \n",
    "        \n",
    "    \n",
    "@trace\n",
    "def square(x):\n",
    "    return(x*x)\n",
    "\n",
    "\n",
    "x=10\n",
    "square(x)"
   ]
  },
  {
   "cell_type": "code",
   "execution_count": 89,
   "metadata": {},
   "outputs": [
    {
     "name": "stdout",
     "output_type": "stream",
     "text": [
      "fuck GFW!\n"
     ]
    },
    {
     "ename": "TypeError",
     "evalue": "'NoneType' object is not callable",
     "output_type": "error",
     "traceback": [
      "\u001b[1;31m---------------------------------------------------------------------------\u001b[0m",
      "\u001b[1;31mTypeError\u001b[0m                                 Traceback (most recent call last)",
      "\u001b[1;32m<ipython-input-89-89a98bbf1ec8>\u001b[0m in \u001b[0;36m<module>\u001b[1;34m()\u001b[0m\n\u001b[0;32m      6\u001b[0m     \u001b[0mprint\u001b[0m\u001b[1;33m(\u001b[0m\u001b[1;34m\"hello\"\u001b[0m\u001b[1;33m)\u001b[0m\u001b[1;33m\u001b[0m\u001b[0m\n\u001b[0;32m      7\u001b[0m \u001b[1;33m\u001b[0m\u001b[0m\n\u001b[1;32m----> 8\u001b[1;33m \u001b[0mwfg\u001b[0m\u001b[1;33m(\u001b[0m\u001b[1;33m)\u001b[0m\u001b[1;33m\u001b[0m\u001b[0m\n\u001b[0m",
      "\u001b[1;31mTypeError\u001b[0m: 'NoneType' object is not callable"
     ]
    }
   ],
   "source": [
    "def fuck(fn):\n",
    "    print (\"fuck %s!\" % fn.__name__[::-1].upper())\n",
    " \n",
    "@fuck\n",
    "def wfg():\n",
    "    print(\"hello\")\n",
    "    \n",
    "wfg()"
   ]
  },
  {
   "cell_type": "code",
   "execution_count": 25,
   "metadata": {},
   "outputs": [
    {
     "ename": "TypeError",
     "evalue": "square() missing 1 required positional argument: 'x'",
     "output_type": "error",
     "traceback": [
      "\u001b[1;31m---------------------------------------------------------------------------\u001b[0m",
      "\u001b[1;31mTypeError\u001b[0m                                 Traceback (most recent call last)",
      "\u001b[1;32m<ipython-input-25-2578788a7a29>\u001b[0m in \u001b[0;36m<module>\u001b[1;34m()\u001b[0m\n\u001b[0;32m      6\u001b[0m \u001b[1;33m\u001b[0m\u001b[0m\n\u001b[0;32m      7\u001b[0m \u001b[1;33m\u001b[0m\u001b[0m\n\u001b[1;32m----> 8\u001b[1;33m \u001b[1;33m@\u001b[0m\u001b[0mtrace\u001b[0m\u001b[1;33m(\u001b[0m\u001b[1;36m8\u001b[0m\u001b[1;33m)\u001b[0m\u001b[1;33m\u001b[0m\u001b[0m\n\u001b[0m\u001b[0;32m      9\u001b[0m \u001b[1;32mdef\u001b[0m \u001b[0msquare\u001b[0m\u001b[1;33m(\u001b[0m\u001b[0mx\u001b[0m\u001b[1;33m)\u001b[0m\u001b[1;33m:\u001b[0m\u001b[1;33m\u001b[0m\u001b[0m\n\u001b[0;32m     10\u001b[0m     \u001b[1;32mreturn\u001b[0m\u001b[1;33m(\u001b[0m\u001b[0mx\u001b[0m\u001b[1;33m*\u001b[0m\u001b[0mx\u001b[0m\u001b[1;33m)\u001b[0m\u001b[1;33m\u001b[0m\u001b[0m\n",
      "\u001b[1;32m<ipython-input-25-2578788a7a29>\u001b[0m in \u001b[0;36mss\u001b[1;34m(func, *args)\u001b[0m\n\u001b[0;32m      1\u001b[0m \u001b[1;32mdef\u001b[0m \u001b[0mtrace\u001b[0m\u001b[1;33m(\u001b[0m\u001b[0mN\u001b[0m\u001b[1;33m)\u001b[0m\u001b[1;33m:\u001b[0m\u001b[1;33m\u001b[0m\u001b[0m\n\u001b[0;32m      2\u001b[0m     \u001b[1;32mdef\u001b[0m \u001b[0mss\u001b[0m\u001b[1;33m(\u001b[0m\u001b[0mfunc\u001b[0m\u001b[1;33m,\u001b[0m\u001b[1;33m*\u001b[0m\u001b[0margs\u001b[0m\u001b[1;33m)\u001b[0m\u001b[1;33m:\u001b[0m\u001b[1;33m\u001b[0m\u001b[0m\n\u001b[1;32m----> 3\u001b[1;33m         \u001b[0mfunc\u001b[0m\u001b[1;33m(\u001b[0m\u001b[1;33m*\u001b[0m\u001b[0margs\u001b[0m\u001b[1;33m)\u001b[0m\u001b[1;33m\u001b[0m\u001b[0m\n\u001b[0m\u001b[0;32m      4\u001b[0m     \u001b[1;32mreturn\u001b[0m \u001b[0mss\u001b[0m\u001b[1;33m\u001b[0m\u001b[0m\n\u001b[0;32m      5\u001b[0m \u001b[1;33m\u001b[0m\u001b[0m\n",
      "\u001b[1;31mTypeError\u001b[0m: square() missing 1 required positional argument: 'x'"
     ]
    }
   ],
   "source": [
    "def trace(N):\n",
    "    def ss(func,*args):\n",
    "        func(*args)   \n",
    "    return ss\n",
    "    \n",
    "        \n",
    "    \n",
    "@trace(8)\n",
    "def square(x):\n",
    "    return(x*x)\n",
    "\n",
    "\n",
    "x=10\n",
    "square(x)"
   ]
  },
  {
   "cell_type": "code",
   "execution_count": 28,
   "metadata": {},
   "outputs": [
    {
     "name": "stdout",
     "output_type": "stream",
     "text": [
      "hello\n"
     ]
    },
    {
     "ename": "TypeError",
     "evalue": "'int' object is not callable",
     "output_type": "error",
     "traceback": [
      "\u001b[1;31m---------------------------------------------------------------------------\u001b[0m",
      "\u001b[1;31mTypeError\u001b[0m                                 Traceback (most recent call last)",
      "\u001b[1;32m<ipython-input-28-bc12bc0d5eb4>\u001b[0m in \u001b[0;36m<module>\u001b[1;34m()\u001b[0m\n\u001b[0;32m     10\u001b[0m     \u001b[0mprint\u001b[0m\u001b[1;33m(\u001b[0m\u001b[1;34m\"n*n=\"\u001b[0m\u001b[1;33m,\u001b[0m\u001b[0mn\u001b[0m\u001b[1;33m*\u001b[0m\u001b[0mn\u001b[0m\u001b[1;33m)\u001b[0m\u001b[1;33m\u001b[0m\u001b[0m\n\u001b[0;32m     11\u001b[0m \u001b[1;33m\u001b[0m\u001b[0m\n\u001b[1;32m---> 12\u001b[1;33m \u001b[0msquare\u001b[0m\u001b[1;33m(\u001b[0m\u001b[1;36m8\u001b[0m\u001b[1;33m)\u001b[0m\u001b[1;33m\u001b[0m\u001b[0m\n\u001b[0m\u001b[0;32m     13\u001b[0m \u001b[1;33m\u001b[0m\u001b[0m\n",
      "\u001b[1;32m<ipython-input-28-bc12bc0d5eb4>\u001b[0m in \u001b[0;36mwrapper\u001b[1;34m(f, *args, **kwargs)\u001b[0m\n\u001b[0;32m      2\u001b[0m     \u001b[1;32mdef\u001b[0m \u001b[0mwrapper\u001b[0m\u001b[1;33m(\u001b[0m\u001b[0mf\u001b[0m\u001b[1;33m,\u001b[0m\u001b[1;33m*\u001b[0m\u001b[0margs\u001b[0m\u001b[1;33m,\u001b[0m\u001b[1;33m**\u001b[0m\u001b[0mkwargs\u001b[0m\u001b[1;33m)\u001b[0m\u001b[1;33m:\u001b[0m\u001b[1;33m\u001b[0m\u001b[0m\n\u001b[0;32m      3\u001b[0m         \u001b[0mprint\u001b[0m\u001b[1;33m(\u001b[0m\u001b[1;34m\"hello\"\u001b[0m\u001b[1;33m)\u001b[0m\u001b[1;33m\u001b[0m\u001b[0m\n\u001b[1;32m----> 4\u001b[1;33m         \u001b[0mf\u001b[0m\u001b[1;33m(\u001b[0m\u001b[1;33m*\u001b[0m\u001b[0margs\u001b[0m\u001b[1;33m,\u001b[0m\u001b[1;33m**\u001b[0m\u001b[0mkwargs\u001b[0m\u001b[1;33m)\u001b[0m\u001b[1;33m\u001b[0m\u001b[0m\n\u001b[0m\u001b[0;32m      5\u001b[0m \u001b[1;33m\u001b[0m\u001b[0m\n\u001b[0;32m      6\u001b[0m     \u001b[1;32mreturn\u001b[0m \u001b[0mwrapper\u001b[0m\u001b[1;33m\u001b[0m\u001b[0m\n",
      "\u001b[1;31mTypeError\u001b[0m: 'int' object is not callable"
     ]
    }
   ],
   "source": [
    "def trace(f,*args,**kwargs):\n",
    "    def wrapper(f,*args,**kwargs):\n",
    "        print(\"hello\")\n",
    "        f(*args,**kwargs)\n",
    "        \n",
    "    return wrapper\n",
    "\n",
    "@trace        \n",
    "def square(n):\n",
    "    print(\"n*n=\",n*n)\n",
    "    \n",
    "square(8)\n",
    "    \n"
   ]
  },
  {
   "cell_type": "code",
   "execution_count": 51,
   "metadata": {},
   "outputs": [
    {
     "name": "stdout",
     "output_type": "stream",
     "text": [
      "hello\n"
     ]
    },
    {
     "ename": "TypeError",
     "evalue": "sqr() missing 1 required positional argument: 'N'",
     "output_type": "error",
     "traceback": [
      "\u001b[1;31m---------------------------------------------------------------------------\u001b[0m",
      "\u001b[1;31mTypeError\u001b[0m                                 Traceback (most recent call last)",
      "\u001b[1;32m<ipython-input-51-ff5c35710db4>\u001b[0m in \u001b[0;36m<module>\u001b[1;34m()\u001b[0m\n\u001b[0;32m     11\u001b[0m         \u001b[1;32mreturn\u001b[0m \u001b[0mtt\u001b[0m\u001b[1;33m\u001b[0m\u001b[0m\n\u001b[0;32m     12\u001b[0m \u001b[1;33m\u001b[0m\u001b[0m\n\u001b[1;32m---> 13\u001b[1;33m \u001b[1;33m@\u001b[0m\u001b[0mdeco\u001b[0m\u001b[1;33m(\u001b[0m\u001b[1;36m10\u001b[0m\u001b[1;33m)\u001b[0m\u001b[1;33m\u001b[0m\u001b[0m\n\u001b[0m\u001b[0;32m     14\u001b[0m \u001b[1;32mdef\u001b[0m \u001b[0msqr\u001b[0m\u001b[1;33m(\u001b[0m\u001b[0mN\u001b[0m\u001b[1;33m)\u001b[0m\u001b[1;33m:\u001b[0m\u001b[1;33m\u001b[0m\u001b[0m\n\u001b[0;32m     15\u001b[0m     \u001b[0mprint\u001b[0m\u001b[1;33m(\u001b[0m\u001b[0mN\u001b[0m\u001b[1;33m*\u001b[0m\u001b[0mN\u001b[0m\u001b[1;33m)\u001b[0m\u001b[1;33m\u001b[0m\u001b[0m\n",
      "\u001b[1;32m<ipython-input-51-ff5c35710db4>\u001b[0m in \u001b[0;36mss\u001b[1;34m(func, *args, **kwargs)\u001b[0m\n\u001b[0;32m      3\u001b[0m         \u001b[1;32mdef\u001b[0m \u001b[0mss\u001b[0m\u001b[1;33m(\u001b[0m\u001b[0mfunc\u001b[0m\u001b[1;33m,\u001b[0m\u001b[1;33m*\u001b[0m\u001b[0margs\u001b[0m\u001b[1;33m,\u001b[0m\u001b[1;33m**\u001b[0m\u001b[0mkwargs\u001b[0m\u001b[1;33m)\u001b[0m\u001b[1;33m:\u001b[0m\u001b[1;33m\u001b[0m\u001b[0m\n\u001b[0;32m      4\u001b[0m             \u001b[0mprint\u001b[0m\u001b[1;33m(\u001b[0m\u001b[1;34m\"hello\"\u001b[0m\u001b[1;33m)\u001b[0m\u001b[1;33m\u001b[0m\u001b[0m\n\u001b[1;32m----> 5\u001b[1;33m             \u001b[0mfunc\u001b[0m\u001b[1;33m(\u001b[0m\u001b[1;33m*\u001b[0m\u001b[0margs\u001b[0m\u001b[1;33m,\u001b[0m\u001b[1;33m**\u001b[0m\u001b[0mkwargs\u001b[0m\u001b[1;33m)\u001b[0m\u001b[1;33m\u001b[0m\u001b[0m\n\u001b[0m\u001b[0;32m      6\u001b[0m         \u001b[1;32mreturn\u001b[0m \u001b[0mss\u001b[0m\u001b[1;33m\u001b[0m\u001b[0m\n\u001b[0;32m      7\u001b[0m     \u001b[1;32melse\u001b[0m \u001b[1;33m:\u001b[0m\u001b[1;33m\u001b[0m\u001b[0m\n",
      "\u001b[1;31mTypeError\u001b[0m: sqr() missing 1 required positional argument: 'N'"
     ]
    }
   ],
   "source": [
    "def deco(t):\n",
    "    def x(func):\n",
    "        \n",
    "\n",
    "@deco(10)\n",
    "def sqr(N):\n",
    "    print(N*N) \n",
    "    return N*N*N\n",
    "\n",
    "sqr(5)\n"
   ]
  },
  {
   "cell_type": "code",
   "execution_count": 64,
   "metadata": {},
   "outputs": [
    {
     "ename": "TypeError",
     "evalue": "'NoneType' object is not callable",
     "output_type": "error",
     "traceback": [
      "\u001b[1;31m---------------------------------------------------------------------------\u001b[0m",
      "\u001b[1;31mTypeError\u001b[0m                                 Traceback (most recent call last)",
      "\u001b[1;32m<ipython-input-64-bfbef83ab4f8>\u001b[0m in \u001b[0;36m<module>\u001b[1;34m()\u001b[0m\n\u001b[0;32m     31\u001b[0m     \u001b[1;32mreturn\u001b[0m \u001b[1;36m0\u001b[0m\u001b[1;33m\u001b[0m\u001b[0m\n\u001b[0;32m     32\u001b[0m \u001b[1;33m\u001b[0m\u001b[0m\n\u001b[1;32m---> 33\u001b[1;33m \u001b[0mhello\u001b[0m\u001b[1;33m(\u001b[0m\u001b[1;34m\"world!\"\u001b[0m\u001b[1;33m)\u001b[0m\u001b[1;33m\u001b[0m\u001b[0m\n\u001b[0m\u001b[0;32m     34\u001b[0m \u001b[1;33m\u001b[0m\u001b[0m\n\u001b[0;32m     35\u001b[0m \u001b[1;33m\u001b[0m\u001b[0m\n",
      "\u001b[1;31mTypeError\u001b[0m: 'NoneType' object is not callable"
     ]
    }
   ],
   "source": [
    "from time import time\n",
    "def logged(when):\n",
    "    def log(f,*args,**kargs):\n",
    "        print('''called:\n",
    "        function: %s\n",
    "        args: %r\n",
    "        kwargs: %r'''%(f,args,kargs))\n",
    "        \n",
    "    def pre_logged(f):\n",
    "        def wrapper(*args,**kargs):\n",
    "            log(f,*args,**kargs)\n",
    "            return f(*args,**kargs)\n",
    "        return wrapper\n",
    "    def post_logged(f):\n",
    "        def wrapped(*args,**kargs):\n",
    "            now = time()\n",
    "            try:\n",
    "                return f(*args,**kargs)\n",
    "            finally:\n",
    "                log(f,*args,**kargs)\n",
    "                print(\"time delta :%s\"%(time()-now))\n",
    "            return wrapper\n",
    "        \n",
    "   \n",
    "    return{\"pre\":pre_logged,\"post\":post_logged}[when]\n",
    "    \n",
    "\n",
    "@logged(\"post\")\n",
    "def hello(name):\n",
    "    print (\"hello,\",name)\n",
    "    \n",
    "    \n",
    "hello(\"world!\")\n"
   ]
  },
  {
   "cell_type": "code",
   "execution_count": 68,
   "metadata": {},
   "outputs": [
    {
     "name": "stdout",
     "output_type": "stream",
     "text": [
      "helloSYSTEM\n"
     ]
    },
    {
     "data": {
      "text/plain": [
       "'helloSYSTEM'"
      ]
     },
     "execution_count": 68,
     "metadata": {},
     "output_type": "execute_result"
    }
   ],
   "source": [
    "def tag(name):\n",
    "    def deco(func):\n",
    "        def wrapper(text):\n",
    "            value = func(text)\n",
    "            print(name+value)\n",
    "            return name + value\n",
    "        return wrapper\n",
    "    return deco\n",
    "\n",
    "@tag(\"hello\")\n",
    "def my_upper(text):\n",
    "    value = text.upper()\n",
    "    return value\n",
    "\n",
    "my_upper('system')"
   ]
  },
  {
   "cell_type": "code",
   "execution_count": null,
   "metadata": {},
   "outputs": [],
   "source": []
  }
 ],
 "metadata": {
  "kernelspec": {
   "display_name": "Python 3",
   "language": "python",
   "name": "python3"
  },
  "language_info": {
   "codemirror_mode": {
    "name": "ipython",
    "version": 3
   },
   "file_extension": ".py",
   "mimetype": "text/x-python",
   "name": "python",
   "nbconvert_exporter": "python",
   "pygments_lexer": "ipython3",
   "version": "3.6.0"
  }
 },
 "nbformat": 4,
 "nbformat_minor": 2
}
