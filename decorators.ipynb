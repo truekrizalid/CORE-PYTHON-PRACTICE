{
 "cells": [
  {
   "cell_type": "code",
   "execution_count": 60,
   "metadata": {
    "tags": []
   },
   "outputs": [
    {
     "output_type": "stream",
     "name": "stdout",
     "text": "hello\n--------------------\n你好！\n"
    }
   ],
   "source": [
    "def say_hello(country):\n",
    "    def wrapper(func):\n",
    "        def deco(*args, **kwargs):\n",
    "            if country == 'china':\n",
    "                print('你好！')\n",
    "            elif country == 'america':\n",
    "                print('hello')\n",
    "            else:\n",
    "                return   func(*args, **kwargs)\n",
    "        return deco\n",
    "    return wrapper\n",
    "\n",
    "\n",
    "@say_hello('china')\n",
    "def chinese():\n",
    "    print('我来自中国。')\n",
    "\n",
    "\n",
    "@say_hello('america')\n",
    "def america():\n",
    "    print('I am from America.')\n",
    "\n",
    "\n",
    "america()\n",
    "print('-'*20)\n",
    "chinese()"
   ]
  },
  {
   "cell_type": "code",
   "execution_count": 61,
   "metadata": {
    "tags": []
   },
   "outputs": [
    {
     "output_type": "stream",
     "name": "stdout",
     "text": "helloSYSTEMHELLO\n"
    },
    {
     "output_type": "execute_result",
     "data": {
      "text/plain": "'helloSYSTEMHELLO'"
     },
     "metadata": {},
     "execution_count": 61
    }
   ],
   "source": [
    "def tag(name):\n",
    "    def deco(func):\n",
    "        def wrapper(text):\n",
    "            value = func(text+name)\n",
    "            print(name+value)\n",
    "            return name + value\n",
    "        return wrapper\n",
    "    return deco\n",
    "\n",
    "@tag(\"hello\")\n",
    "def my_upper(text):\n",
    "    value = text.upper()\n",
    "    return value\n",
    "\n",
    "my_upper('system')"
   ]
  },
  {
   "cell_type": "code",
   "execution_count": 68,
   "metadata": {
    "tags": []
   },
   "outputs": [
    {
     "output_type": "stream",
     "name": "stdout",
     "text": "calling add1\n"
    },
    {
     "output_type": "execute_result",
     "data": {
      "text/plain": "9"
     },
     "metadata": {},
     "execution_count": 68
    }
   ],
   "source": [
    "\n",
    "def add2(func):\n",
    "    def wrapper(*args,**kwargs):\n",
    "        print(\"calling\",func.__name__)\n",
    "        return func(*args,**kwargs)+2\n",
    "\n",
    "    return wrapper\n",
    "@add2\n",
    "def add1(x,y):\n",
    "    return x+y\n",
    "\n",
    "add1(3,4)\n",
    "\n"
   ]
  },
  {
   "cell_type": "code",
   "execution_count": 1,
   "metadata": {
    "tags": []
   },
   "outputs": [],
   "source": [
    "import time\n",
    "def timeThis(func):\n",
    "    \n",
    "    def deco(*args,**kwargs):\n",
    "        start = time.time()\n",
    "        func(*args,**kwargs)\n",
    "        end=time.time()\n",
    "        print(\"%s.%s:%f\"%(func.__module__,func.__name__,end-start))\n",
    "        return func(*args,**kwargs)\n",
    "        \n",
    "\n",
    "    \n",
    "   \n",
    "    \n",
    "    return deco\n",
    "        \n",
    "\n",
    "    \n",
    "\n"
   ]
  },
  {
   "cell_type": "code",
   "execution_count": 2,
   "metadata": {
    "tags": []
   },
   "outputs": [],
   "source": [
    "\n",
    "@timeThis\n",
    "def count(n):\n",
    "    while(n>0):\n",
    "        n-=1\n"
   ]
  },
  {
   "cell_type": "code",
   "execution_count": 4,
   "metadata": {
    "tags": []
   },
   "outputs": [
    {
     "output_type": "stream",
     "name": "stdout",
     "text": "__main__.count:0.022001\n"
    }
   ],
   "source": [
    "count(300000)"
   ]
  },
  {
   "cell_type": "code",
   "execution_count": null,
   "metadata": {},
   "outputs": [],
   "source": [
    "def add(x,y,z):\n",
    "    pass\n"
   ]
  }
 ],
 "metadata": {
  "kernelspec": {
   "display_name": "Python 3",
   "language": "python",
   "name": "python3"
  },
  "language_info": {
   "codemirror_mode": {
    "name": "ipython",
    "version": 3
   },
   "file_extension": ".py",
   "mimetype": "text/x-python",
   "name": "python",
   "nbconvert_exporter": "python",
   "pygments_lexer": "ipython3",
   "version": "3.6.0-final"
  }
 },
 "nbformat": 4,
 "nbformat_minor": 2
}