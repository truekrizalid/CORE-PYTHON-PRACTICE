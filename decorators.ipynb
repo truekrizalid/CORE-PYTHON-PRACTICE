{
 "cells": [
  {
   "cell_type": "code",
   "execution_count": 1,
   "metadata": {},
   "outputs": [
    {
     "name": "stdout",
     "output_type": "stream",
     "text": [
      "hello\n",
      "I am from America.\n",
      "--------------------\n",
      "你好！\n",
      "我来自中国。\n"
     ]
    }
   ],
   "source": [
    "def say_hello(country):\n",
    "    def wrapper(func):\n",
    "        def deco(*args, **kwargs):\n",
    "            if country == 'china':\n",
    "                print('你好！')\n",
    "            elif country == 'america':\n",
    "                print('hello')\n",
    "            else:\n",
    "                return\n",
    "            func(*args, **kwargs)\n",
    "        return deco\n",
    "    return wrapper\n",
    "\n",
    "\n",
    "@say_hello('china')\n",
    "def chinese():\n",
    "    print('我来自中国。')\n",
    "\n",
    "\n",
    "@say_hello('america')\n",
    "def america():\n",
    "    print('I am from America.')\n",
    "\n",
    "\n",
    "america()\n",
    "print('-'*20)\n",
    "chinese()"
   ]
  },
  {
   "cell_type": "code",
   "execution_count": 1,
   "metadata": {},
   "outputs": [
    {
     "name": "stdout",
     "output_type": "stream",
     "text": [
      "helloSYSTEMHELLO\n"
     ]
    },
    {
     "data": {
      "text/plain": [
       "'helloSYSTEMHELLO'"
      ]
     },
     "execution_count": 1,
     "metadata": {},
     "output_type": "execute_result"
    }
   ],
   "source": [
    "def tag(name):\n",
    "    def deco(func):\n",
    "        def wrapper(text):\n",
    "            value = func(text+name)\n",
    "            print(name+value)\n",
    "            return name + value\n",
    "        return wrapper\n",
    "    return deco\n",
    "\n",
    "@tag(\"hello\")\n",
    "def my_upper(text):\n",
    "    value = text.upper()\n",
    "    return value\n",
    "\n",
    "my_upper('system')"
   ]
  },
  {
   "cell_type": "code",
   "execution_count": null,
   "metadata": {},
   "outputs": [],
   "source": []
  }
 ],
 "metadata": {
  "kernelspec": {
   "display_name": "Python 3",
   "language": "python",
   "name": "python3"
  },
  "language_info": {
   "codemirror_mode": {
    "name": "ipython",
    "version": 3
   },
   "file_extension": ".py",
   "mimetype": "text/x-python",
   "name": "python",
   "nbconvert_exporter": "python",
   "pygments_lexer": "ipython3",
   "version": "3.6.0"
  }
 },
 "nbformat": 4,
 "nbformat_minor": 2
}
